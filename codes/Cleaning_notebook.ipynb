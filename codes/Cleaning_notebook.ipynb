{
  "nbformat": 4,
  "nbformat_minor": 0,
  "metadata": {
    "kernelspec": {
      "display_name": "Python 3",
      "language": "python",
      "name": "python3"
    },
    "language_info": {
      "codemirror_mode": {
        "name": "ipython",
        "version": 3
      },
      "file_extension": ".py",
      "mimetype": "text/x-python",
      "name": "python",
      "nbconvert_exporter": "python",
      "pygments_lexer": "ipython3",
      "version": "3.7.3"
    },
    "colab": {
      "name": "Cleaning Colab.ipynb",
      "provenance": [],
      "collapsed_sections": [
        "pIgrN114LMDU"
      ]
    }
  },
  "cells": [
    {
      "cell_type": "markdown",
      "metadata": {
        "id": "gVt_M38bLCTe",
        "colab_type": "text"
      },
      "source": [
        "## Actual Code starts here"
      ]
    },
    {
      "cell_type": "code",
      "metadata": {
        "id": "exQHzjACGIm-",
        "colab_type": "code",
        "outputId": "a0c321a8-9d16-4998-8939-b95bf98ecdd3",
        "colab": {
          "base_uri": "https://localhost:8080/",
          "height": 122
        }
      },
      "source": [
        "import pandas as pd\n",
        "import string\n",
        "import re\n",
        "\n",
        "from google.colab import drive\n",
        "drive.mount('/content/drive')"
      ],
      "execution_count": 1,
      "outputs": [
        {
          "output_type": "stream",
          "text": [
            "Mounted at /content/drive\n"
          ],
          "name": "stdout"
        }
      ]
    },
    {
      "cell_type": "code",
      "metadata": {
        "id": "70Er23CE0ZEc",
        "colab_type": "code",
        "colab": {
          "base_uri": "https://localhost:8080/",
          "height": 34
        },
        "outputId": "7f62919d-7da2-4b6f-f0b9-535d418b523d"
      },
      "source": [
        "import os\n",
        "os.getcwd()"
      ],
      "execution_count": 4,
      "outputs": [
        {
          "output_type": "execute_result",
          "data": {
            "text/plain": [
              "'/content'"
            ]
          },
          "metadata": {
            "tags": []
          },
          "execution_count": 4
        }
      ]
    },
    {
      "cell_type": "code",
      "metadata": {
        "id": "f3wFJvZ6KkGp",
        "colab_type": "code",
        "colab": {}
      },
      "source": [
        "#SECTION 1\n",
        "def sentSeg(s):\n",
        "\t#assumes input as raw hindi sentence, with noise \n",
        "\t#output is a string containing sentences, which are segmented by a new line '\\n'\n",
        "\tsindex = []\n",
        "\tchl = []\n",
        "\tbracket = False\n",
        "\ti = 0\n",
        "\twhile i<len(s):\n",
        "\t\tif bracket == False:\n",
        "\t\t\tif (s[i]=='।') or (s[i]=='?'):\n",
        "\t\t\t\tsindex.append(i)\n",
        "\t\t\telif (s[i]=='.'):\n",
        "\t\t\t\tif not(i>0 and i<len(s)-1 and s[i-1].isdigit() and s[i+1].isdigit()):\n",
        "\t\t\t\t\tsindex.append(i)\n",
        "\n",
        "\t\tif (s[i]=='('):\n",
        "\t\t\tbracket = True\n",
        "\t\telif (s[i]==')' or s[i]=='\\n'):\n",
        "\t\t\tbracket = False\n",
        "\t\tchl.append(s[i])\n",
        "\t\ti+=1\n",
        "\n",
        "\tfor i in range(len(sindex)):\n",
        "\t\tchl[sindex[i]] = '\\n'\n",
        "\n",
        "\ts = ''.join(chl)\n",
        "\ts = re.sub(\"(\\n)+\",\"\\n\",s)\n",
        "\ts = re.sub(\"\\n$\",\"\",s)\n",
        "\ts = re.sub(\"( )+\",\" \",s)\n",
        "\n",
        "\tml = s.split('\\n')\n",
        "\ti = 0\n",
        "\twhile i < len(ml):\n",
        "\t\tif len(ml[i].strip('\\n')) < 3:\n",
        "\t\t\tml[i] = \"\"\n",
        "\t\telse:\n",
        "\t\t\tml[i] = ml[i].strip()\n",
        "\t\ti+=1\n",
        "\ts = '\\n'.join(ml)\n",
        "\ts = re.sub(\"(\\n)+\",\"\\n\",s)\n",
        "\treturn s\n",
        "\n",
        "#SECTION 1.01 : Remove Rows with no summary\n",
        "def removeNan(df):\n",
        "\tdf = df.dropna()\n",
        "\treturn df\n",
        "\n",
        "#SECTION 1.1\n",
        "def removeEnglishLines(s, maxPercentage=0.5):\n",
        "\t# assumes input as hindi sentences, segmented by new line '\\n'\n",
        "\tml = s.split('\\n')\n",
        "\ti = 0\n",
        "\twhile i < len(ml):\n",
        "\t\tj = 0\n",
        "\t\tfor x in ml[i]:\n",
        "\t\t\t# print(x,end=' ')\n",
        "\t\t\tif (x>='a' and x<='z') or (x>='A' and x<='Z'):\n",
        "\t\t\t\tj+=1\n",
        "\t\tif j > int(len(ml[i])*maxPercentage):\n",
        "\t\t\tml[i] = \"\"\n",
        "\t\ti+=1\n",
        "\ts = \"\\n\".join(ml)\n",
        "\ts = re.sub(\"(\\n)+\",\"\\n\",s)\n",
        "\ts = re.sub(\"\\n$\",\"\",s)\n",
        "\treturn s\n",
        "\n",
        "# SECTION 1.1\n",
        "def englishPhrases(s):\n",
        "\t# assumes input as hindi sentences, segmented by new line '\\n'\n",
        "\tml = s.split('\\n')\n",
        "\ti = 0\n",
        "\twhile i < len(ml): #iterate over each sent\n",
        "\t\tmsl = ml[i].split(' ') \n",
        "\t\thichar = False\n",
        "\t\tbracket = False\n",
        "\t\tj = 0\n",
        "\t\twhile j <len(msl)-1: #iterate over each word, skip last because it is '\\n'\n",
        "\t\t\tif ('(' in msl[j]):\n",
        "\t\t\t\tbracket=True\n",
        "\t\t\tif bool(re.search(r\"[\\u0900-\\u097F]\",msl[j])) == False and bool(re.search(r\"\\d\",msl[j])) == False and (bracket==False) and (bool(re.search(r\"[a-z]\",msl[j]))): #has no Hindi alphabets and no numbers and bracket is not open and it contains atleast one english alphabet (bcoz it messes up in punctuations)\n",
        "\t\t\t\tmsl[j] = \"<ENG>\"\n",
        "\t\t\t# else:\n",
        "\t\t\t# \tprint(msl[j])\n",
        "\t\t\tif(')' in msl[j]):\n",
        "\t\t\t\tbracket=False\n",
        "\t\t\tj+=1\n",
        "\t\tml[i] = ' '.join(msl)\n",
        "\t\ti+=1\n",
        "\ts = \"\\n\".join(ml)\n",
        "\t# s = re.sub(\"(<ENG> ?)+\",\"<ENG> \" ,s)\n",
        "\treturn s\n",
        "\n",
        "\n",
        "#SECTION 2\n",
        "def removeRepeatingSents(s):\n",
        "\tml = s.split('\\n')\n",
        "\ti = 1\n",
        "\twhile i < len(ml):\n",
        "\t\tif (ml[i] in ml[:i]):\n",
        "\t\t\tml = ml[:i]+(ml[i+1:] if i+1<len(ml) else [])\n",
        "\t\t\ti-=1\n",
        "\t\ti+=1\n",
        "\ti = 0\n",
        "\twhile i < len(ml):\n",
        "\t\tml[i] = ml[i].replace(\"टिप्पणियां\",'').replace('-',' ')\n",
        "\t\ti+=1\n",
        "\ts = '\\n'.join(ml)\n",
        "\ts = re.sub(\"(\\n)+\",\"\\n\",s)\n",
        "\ts = s.strip('\\n').strip(' ')\n",
        "\treturn s\n",
        "\n",
        "def checkforDigitsinThisWord(w):\n",
        "\tif (any(char.isdigit() for char in w)):\n",
        "\t\treturn \"<NUM>\"\n",
        "\telse:\n",
        "\t\treturn w\n",
        "\n",
        "#Section 3 Remove Numbers\n",
        "#Currently does not merge <NUM>s separated by a dash or ' ' for ranges\n",
        "def removeNumbers(df):\n",
        "\t#Remove indexing, otherwise causes indexing problems\n",
        "\tdf = df.reset_index(drop=True)\n",
        "\tfor i in df:\n",
        "\t\tfor j in range(len(df[i])):\n",
        "\t\t\ttext=df[i][j]\n",
        "\t\t\t#Assuming space separated --aamir\n",
        "\t\t\t#incorrect assumption, sometimes summaries are multiline i.e. separated by new line --ritwik\n",
        "\t\t\t#we can do it by regex BUT the main issue comes when numbers are mixed with alphabets like \"R2D2\" or \"टि20\".\n",
        "\t\t\t#You will need to handle spaces, new lines, hindi characters, english characters and repeating patterns. It will be a tedious regex to write. --ritwik\n",
        "\t\t\twords=text.split(' ')\n",
        "\t\t\tbracket=False\n",
        "\t\t\tfor k in range(len(words)):\n",
        "\t\t\t\tif '(' in words[k]:\n",
        "\t\t\t\t\tbracket=True\n",
        "\t\t\t\telif bracket==False:\n",
        "\t\t\t\t\tif (\"\\n\" in words[k]):\n",
        "\t\t\t\t\t\tsubwords = words[k].split('\\n')\n",
        "\t\t\t\t\t\tfor m in range(len(subwords)):\n",
        "\t\t\t\t\t\t\tsubwords[m] = checkforDigitsinThisWord(subwords[m])\n",
        "\t\t\t\t\t\twords[k] = '\\n'.join(subwords)\n",
        "\t\t\t\t\telse:\n",
        "\t\t\t\t\t\twords[k] = checkforDigitsinThisWord(words[k])\n",
        "\t\t\t\tif ')' in words[k]:\n",
        "\t\t\t\t\tbracket=False\n",
        "\t\t\tdf[i][j]=' '.join(words)\n",
        "\treturn df\n",
        "\n",
        "#SECTION 4\n",
        "def removeTinyArticles(df,minLength=50):\n",
        "\tdf = df.reset_index(drop=True)\n",
        "\tfor i in range(len(df['article'])):\n",
        "\t\ttext=df['article'][i]\n",
        "\t\twords=text.split(' ')\n",
        "\t\tcount=len(words)\n",
        "\t\tif(count<minLength):\n",
        "\t\t\tdf['article'][i]=float('NaN')\n",
        "\tdf=removeNan(df)\n",
        "\treturn df\n",
        "\n",
        "def removeTinySummaries(df,minLength=10):\n",
        "\tdf = df.reset_index(drop=True)\n",
        "\tfor i in range(len(df['summary'])):\n",
        "\t\ttext=df['summary'][i]\n",
        "\t\twords=text.split(' ')\n",
        "\t\tcount=len(words)\n",
        "\t\tif(count<minLength):\n",
        "\t\t\tdf['summary'][i]=float('NaN')\n",
        "\tdf=removeNan(df)\n",
        "\treturn df\n",
        "\n",
        "#Section 5 Questions remover\n",
        "#Ensure removeMultipleSpaces has been called, because last character needs to be a space\n",
        "#Call removeNan to remove these lines\n",
        "def removeQuestions(df):\n",
        "\tdf=df.applymap(lambda x: x if (re.search('\\?$',x)==None) else float('NaN'))\n",
        "\tdf=removeNan(df)\n",
        "\treturn df\n",
        "\n",
        "#Section 6 Remove Brackets\n",
        "def removeBrackets(df):\n",
        "\tdf = df.reset_index(drop=True)\n",
        "\tfor i in range(len(df['article'])):\n",
        "\t\twords=df['article'][i]\n",
        "\t\tbrackets=0\n",
        "\t\treplacedSentence=''\n",
        "\t\tfor j in words:\n",
        "\t\t\tif(j=='('):\n",
        "\t\t\t\tbrackets+=1\n",
        "\t\t\telif(j==')'):\n",
        "\t\t\t\tbrackets-=1\n",
        "\t\t\t\tcontinue\n",
        "\t\t\tif(brackets==0):\n",
        "\t\t\t\treplacedSentence+=j\n",
        "\t\tdf['article'][i]=replacedSentence\n",
        "\treturn df\n",
        "\n",
        "#Section 7 Remove Punctuation\n",
        "def removePunctuation(df):\n",
        "\tdf=df.applymap(lambda x: x.replace('|',' '))\n",
        "\tpstr = (string.punctuation+\"‘’\").replace('<','').replace('>','')\n",
        "\tdf=df.applymap(lambda x: x.translate(str.maketrans('', '', pstr)))\n",
        "\treturn df\n",
        "\n",
        "def removeSpaces(s): #sometimes some lines just contain spaces\n",
        "\tml = s.split('\\n')\n",
        "\ti = 0\n",
        "\twhile i< len(ml):\n",
        "\t\tml[i] = ml[i].strip()\n",
        "\t\ti+=1\n",
        "\ts = '\\n'.join(ml)\n",
        "\treturn s"
      ],
      "execution_count": 0,
      "outputs": []
    },
    {
      "cell_type": "code",
      "metadata": {
        "id": "b2kzA1ZSLU_D",
        "colab_type": "code",
        "colab": {}
      },
      "source": [
        "#Step 1 : Load the dataset\n",
        "# train_df=pd.read_csv('/content/drive/My Drive/_SEM8/DL/Project/train.csv',lineterminator='\\n')\n",
        "train_df=pd.read_csv('./drive/My Drive/DL_final/test.csv',lineterminator='\\n')"
      ],
      "execution_count": 0,
      "outputs": []
    },
    {
      "cell_type": "code",
      "metadata": {
        "id": "aMxkJ-H0LrzF",
        "colab_type": "code",
        "colab": {
          "base_uri": "https://localhost:8080/",
          "height": 765
        },
        "outputId": "66d5601e-bc09-4ae6-eb1a-d06823112b95"
      },
      "source": [
        "# train_df=pd.read_csv('train.csv',lineterminator='\\n')\n",
        "print(train_df)\n",
        "print(train_df.columns)\n",
        "train_df=removeNan(train_df)\n",
        "print('Blank entries removed')\n",
        "train_df['article'] = train_df['article'].apply(sentSeg)\n",
        "train_df['summary'] = train_df['summary'].apply(sentSeg)\n",
        "print('Sent Segmentation Done')\n",
        "\n",
        "train_df['article'] = train_df['article'].apply(removeEnglishLines)\n",
        "train_df['summary'] = train_df['summary'].apply(removeEnglishLines)\n",
        "print('English lines Removed')\n",
        "\n",
        "train_df['article'] = train_df['article'].apply(englishPhrases)\n",
        "print('English Phrases in article changed to <ENG>')\n",
        "train_df['summary'] = train_df['summary'].apply(englishPhrases)\n",
        "print('English Phrases in summary changed to <ENG>')\n",
        "\n",
        "train_df = removeNumbers(train_df)\n",
        "print('Numbers changed to <NUM>')\n",
        "train_df = removeQuestions(train_df)\n",
        "print('Questions removed')\n",
        "train_df = removeBrackets(train_df)\n",
        "print('Bracketted text removed')\n",
        "\n",
        "train_df['article'] = train_df['article'].apply(removeRepeatingSents)\n",
        "train_df['summary'] = train_df['summary'].apply(removeRepeatingSents)\n",
        "print('Repeated sents removed')\n",
        "\n",
        "train_df=removeTinyArticles(train_df)\n",
        "print('Tiny articles removed')\n",
        "train_df=removeTinySummaries(train_df)\n",
        "print('Tiny summaries removed')\n",
        "train_df = removePunctuation(train_df)\n",
        "print('Punctuation removed')\n",
        "\n",
        "train_df['article'] = train_df['article'].apply(removeSpaces)\n",
        "print('article spaces-lines removed')\n",
        "train_df['summary'] = train_df['summary'].apply(removeSpaces)\n",
        "print('summary spaces-lines removed')\n",
        "train_df=removeNan(train_df)\n",
        "print('Blank entries removed just to be sure!')\n",
        "\n",
        "print(train_df)"
      ],
      "execution_count": 6,
      "outputs": [
        {
          "output_type": "stream",
          "text": [
            "                                                headline  ...                                            article\n",
            "0      पाकिस्तानी जासूस को मिली अहम खुफिया जानकारी, ज...  ...  जम्मू कश्मीर पुलिस के एक अधिकारी ने घाटी में प...\n",
            "1      अमर को अस्पताल से छुट्टी, बोले, सपा से अब नाम ...  ...  नोट के बदले वोट मामले में आरोपी समाजवादी पार्ट...\n",
            "2      केजरीवाल ने उप राज्यपाल से सिख विरोधी दंगों की...  ...  आम आदमी पार्टी (आप) और अकाली दल ने बुधवार को द...\n",
            "3      सैलरी नेगोश‍िएट करते वक्‍त भूलकर भी न कहें ये ...  ...            VIDEO: अब सैलरी होगी कम, सेविंग ज़्यादा!\n",
            "4            इंटरनेट से पता कीजिए कहां तक पहुंची ट्रेन    ...  रेल नेविगेशन से संबंधित आईआईटी कानपुर की महत्व...\n",
            "...                                                  ...  ...                                                ...\n",
            "35963  फ्लैग मीटिंग से पहले पाक ने की नांगरी-टेकरी इल...  ...  नियंत्रण रेखा पर चल रहे तनाव को कम करने के लिए...\n",
            "35964  कांग्रेस के 50 उम्मीदवारों की सूची, चिदंबरम नह...  ...  कांग्रेस ने गुरुवार को वित्तमंत्री पी चिदंबरम ...\n",
            "35965  'अपने बच्चों को आतंकी नहीं बनाना चाहता था ओसाम...  ...  आतंकवादी संगठन अलकायदा की नींव रखने वाला ओसामा...\n",
            "35966  इनकम टैक्स रिटर्न के लिए तीन पन्ने का नया फॉर्...  ...  वित्त मंत्रालय ने आयकर रिटर्न (आईटीआर) के लिए ...\n",
            "35967  2005 से पहले के छपे नोटों को बदलने की डेडलाइन ...  ...  रिजर्व बैंक ने 2005 से पहले छपे नोटों के बदलने...\n",
            "\n",
            "[35968 rows x 3 columns]\n",
            "Index(['headline', 'summary', 'article'], dtype='object')\n",
            "Blank entries removed\n",
            "Sent Segmentation Done\n",
            "English lines Removed\n",
            "English Phrases in article changed to <ENG>\n",
            "English Phrases in summary changed to <ENG>\n",
            "Numbers changed to <NUM>\n",
            "Questions removed\n",
            "Bracketted text removed\n",
            "Repeated sents removed\n",
            "Tiny articles removed\n",
            "Tiny summaries removed\n",
            "Punctuation removed\n",
            "article spaces-lines removed\n",
            "summary spaces-lines removed\n",
            "Blank entries removed just to be sure!\n",
            "                                                headline  ...                                            article\n",
            "0      पाकिस्तानी जासूस को मिली अहम खुफिया जानकारी जम...  ...  जम्मू कश्मीर पुलिस के एक अधिकारी ने घाटी में प...\n",
            "1      अमर को अस्पताल से छुट्टी बोले सपा से अब नाम न ...  ...  नोट के बदले वोट मामले में आरोपी समाजवादी पार्ट...\n",
            "2            इंटरनेट से पता कीजिए कहां तक पहुंची ट्रेन    ...  रेल नेविगेशन से संबंधित आईआईटी कानपुर की महत्व...\n",
            "3      जब फिल्मी अंदाज में बोले शिवपाल  मुलायम जहां ख...  ...  प्रस्तावित समाजवादी धर्मनिरपेक्ष मोर्चा का नेत...\n",
            "4      पाकिस्तान के साथ क्रिकेट खेलने का सवाल ही पैदा...  ...  बीसीसीआई अध्यक्ष अनुराग ठाकुर ने भविष्य में पा...\n",
            "...                                                  ...  ...                                                ...\n",
            "14875     हैदराबाद में वाहन में आग लगने से पांच की मौत    ...  हैदराबाद के पास एक लॉरी में आग लगने से कम से क...\n",
            "14876  यूपी में फिजिकल टेस्ट के दौरान पुलिसकर्मी की म...  ...  उत्तर प्रदेश के आजमगढ़ जिले में बुधवार को विभा...\n",
            "14877  देश में स्वतंत्रता का जश्न सुरक्षा व्यवस्था हु...  ...  देश को आज़ाद हुए आज <NUM> साल हो चुके हैं\\nदेशभ...\n",
            "14878  फ्लैग मीटिंग से पहले पाक ने की नांगरीटेकरी इला...  ...  नियंत्रण रेखा पर चल रहे तनाव को कम करने के लिए...\n",
            "14879   अपने बच्चों को आतंकी नहीं बनाना चाहता था ओसामा    ...  आतंकवादी संगठन अलकायदा की नींव रखने वाला ओसामा...\n",
            "\n",
            "[14877 rows x 3 columns]\n"
          ],
          "name": "stdout"
        }
      ]
    },
    {
      "cell_type": "code",
      "metadata": {
        "id": "SMHQH64EQebU",
        "colab_type": "code",
        "colab": {}
      },
      "source": [
        "# SAVING\n",
        "# train_df.to_csv('/content/drive/My Drive/_SEM8/DL/Project/train_clean.csv',index=None)\n",
        "train_df.to_csv('./drive/My Drive/DL_final/test_clean.csv',index=None)"
      ],
      "execution_count": 0,
      "outputs": []
    },
    {
      "cell_type": "code",
      "metadata": {
        "id": "HudCxzPj1GZh",
        "colab_type": "code",
        "colab": {
          "base_uri": "https://localhost:8080/",
          "height": 34
        },
        "outputId": "8ceb436c-0c2f-44e2-a6d0-d8b4474db2ed"
      },
      "source": [
        "len(train_df)"
      ],
      "execution_count": 8,
      "outputs": [
        {
          "output_type": "execute_result",
          "data": {
            "text/plain": [
              "14877"
            ]
          },
          "metadata": {
            "tags": []
          },
          "execution_count": 8
        }
      ]
    },
    {
      "cell_type": "code",
      "metadata": {
        "id": "HzvGIcNGK6PM",
        "colab_type": "code",
        "outputId": "6ae40585-f46e-4d11-81f3-7413d86d501f",
        "colab": {
          "base_uri": "https://localhost:8080/",
          "height": 121
        }
      },
      "source": [
        "!ls drive/My\\ Drive/Colab\\ Notebooks/hi_fb/*"
      ],
      "execution_count": 0,
      "outputs": [
        {
          "output_type": "stream",
          "text": [
            "'drive/My Drive/Colab Notebooks/hi_fb/cc.hi.300.bin.gz'\n",
            "'drive/My Drive/Colab Notebooks/hi_fb/test.csv'\n",
            "'drive/My Drive/Colab Notebooks/hi_fb/train2.csv'\n",
            "'drive/My Drive/Colab Notebooks/hi_fb/train_clean.csv'\n",
            "'drive/My Drive/Colab Notebooks/hi_fb/train.csv'\n",
            "'drive/My Drive/Colab Notebooks/hi_fb/trainWords.set'\n"
          ],
          "name": "stdout"
        }
      ]
    },
    {
      "cell_type": "markdown",
      "metadata": {
        "id": "pIgrN114LMDU",
        "colab_type": "text"
      },
      "source": [
        "## Actual Code Ends here"
      ]
    },
    {
      "cell_type": "code",
      "metadata": {
        "id": "N7iMSAXMLAVL",
        "colab_type": "code",
        "colab": {}
      },
      "source": [
        ""
      ],
      "execution_count": 0,
      "outputs": []
    },
    {
      "cell_type": "code",
      "metadata": {
        "id": "Wb8EN2p6FbS1",
        "colab_type": "code",
        "outputId": "01c66e3d-316a-42ad-94c1-484f24e1beec",
        "colab": {
          "base_uri": "https://localhost:8080/",
          "height": 35
        }
      },
      "source": [
        "\"\"\"\n",
        "========\n",
        "NEW CODE\n",
        "========\n",
        "\"\"\""
      ],
      "execution_count": 0,
      "outputs": [
        {
          "output_type": "execute_result",
          "data": {
            "text/plain": [
              "'\\n========\\nNEW CODE\\n========\\n'"
            ]
          },
          "metadata": {
            "tags": []
          },
          "execution_count": 2
        }
      ]
    },
    {
      "cell_type": "code",
      "metadata": {
        "id": "Q0HQ31UNFbTJ",
        "colab_type": "code",
        "colab": {}
      },
      "source": [
        "#Imports\n",
        "\n",
        "import pandas as pd\n",
        "import string\n",
        "import re\n",
        "import copy"
      ],
      "execution_count": 0,
      "outputs": []
    },
    {
      "cell_type": "code",
      "metadata": {
        "id": "fyRpFFweFbTa",
        "colab_type": "code",
        "outputId": "d5cef032-8098-4fc7-b8a9-deea93bfd5aa",
        "colab": {
          "base_uri": "https://localhost:8080/",
          "height": 35
        }
      },
      "source": [
        "\"\"\"\n",
        "re.split('; |, |\\*|\\n',a)\n",
        "\"\"\""
      ],
      "execution_count": 0,
      "outputs": [
        {
          "output_type": "execute_result",
          "data": {
            "text/plain": [
              "\"\\nre.split('; |, |\\\\*|\\n',a)\\n\""
            ]
          },
          "metadata": {
            "tags": []
          },
          "execution_count": 5
        }
      ]
    },
    {
      "cell_type": "code",
      "metadata": {
        "id": "6c8BX4uQFbTp",
        "colab_type": "code",
        "colab": {}
      },
      "source": [
        "#Section 1.02 Remove Escaped Characters\n",
        "\n",
        "#Commented replace \\n because it is required\n",
        "def removeEscapedCharacter(df):\n",
        "    #df=df.applymap(lambda x: x.replace('\\n',' '))\n",
        "    df=df.applymap(lambda x: x.replace('\\r',' '))\n",
        "    df=df.applymap(lambda x: x.replace('\\t',' '))\n",
        "    df=df.applymap(lambda x: x.replace('\\xa0',' '))\n",
        "    df=df.applymap(lambda x: x.replace('\\u200d',' '))\n",
        "    df=df.applymap(lambda x: x.replace('‘',' '))\n",
        "    df=df.applymap(lambda x: x.replace('’',' '))\n",
        "    df=df.applymap(lambda x: x.replace('\\'',' '))\n",
        "    df=df.applymap(lambda x: x.replace('\\\"',' '))\n",
        "    return df"
      ],
      "execution_count": 0,
      "outputs": []
    },
    {
      "cell_type": "code",
      "metadata": {
        "id": "ruj5Mx5hFbTt",
        "colab_type": "code",
        "colab": {}
      },
      "source": [
        "#Section 1.03 Remove Multiple Spaces\n",
        "def removeMultipleSpaces(df):\n",
        "    df=df.applymap(lambda x:' '.join(x.split()))\n",
        "    return df"
      ],
      "execution_count": 0,
      "outputs": []
    },
    {
      "cell_type": "code",
      "metadata": {
        "id": "EzYqxjRiFbT0",
        "colab_type": "code",
        "colab": {}
      },
      "source": [
        "#Section 1.1 Remove English Characters\n",
        "#Currently does not merge <ENG>s separated by a dash or ' ' for ranges\n",
        "def removeEnglish(df,tolerance=0.2):\n",
        "    #Remove indexing, otherwise causes indexing problems\n",
        "    df = df.reset_index(drop=True)\n",
        "    for i in df:\n",
        "        for j in range(len(df[i])):\n",
        "            text=df[i][j]\n",
        "            #Assuming space separated\n",
        "            words=text.split(' ')\n",
        "            for k in range(len(words)):\n",
        "                if(re.search('.*[a-zA-Z].*', words[k])!=None):\n",
        "                    words[k]='<ENG>'\n",
        "            eng=words.count('ENG')*1.0            \n",
        "            total=len(words)*1.0\n",
        "            ratio=eng/total\n",
        "            if(ratio>tolerance):\n",
        "                df[i][j]=float('NaN')\n",
        "            else:\n",
        "                df[i][j]=' '.join(words)\n",
        "    df=removeNan(df)\n",
        "    return df"
      ],
      "execution_count": 0,
      "outputs": []
    },
    {
      "cell_type": "code",
      "metadata": {
        "id": "dFFxPpVbFbT6",
        "colab_type": "code",
        "colab": {}
      },
      "source": [
        "#Section 1.2 Remove Noisy Lines\n",
        "#Should be taken care by removeNan because these lines most probably do not have summaries\n",
        "def removeNoisyLines(df):\n",
        "    return df"
      ],
      "execution_count": 0,
      "outputs": []
    },
    {
      "cell_type": "code",
      "metadata": {
        "id": "3FOjGuNlFbUA",
        "colab_type": "code",
        "colab": {}
      },
      "source": [
        "#Section 2\n",
        "def removeDuplicates(df):\n",
        "    df=df.drop_duplicates()\n",
        "    return df\n",
        "\n",
        "def removeDuplicateSentences(df):\n",
        "    for i in df:\n",
        "      continue\n"
      ],
      "execution_count": 0,
      "outputs": []
    },
    {
      "cell_type": "code",
      "metadata": {
        "id": "12FDqG-JFbUL",
        "colab_type": "code",
        "colab": {}
      },
      "source": [
        "#Section 3 Remove Numbers\n",
        "#Currently does not merge <NUM>s separated by a dash or ' ' for ranges\n",
        "def removeNumbers(df):\n",
        "    #Remove indexing, otherwise causes indexing problems\n",
        "    df = df.reset_index(drop=True)\n",
        "    for i in df:\n",
        "        for j in range(len(df[i])):\n",
        "            text=df[i][j]\n",
        "            #Assuming space separated\n",
        "            words=text.split(' ')\n",
        "            for k in range(len(words)):\n",
        "                if(any(char.isdigit() for char in words[k])):\n",
        "                    words[k]='<NUM>'\n",
        "            df[i][j]=' '.join(words)\n",
        "    return df"
      ],
      "execution_count": 0,
      "outputs": []
    },
    {
      "cell_type": "code",
      "metadata": {
        "id": "pAfIWQHGFbUV",
        "colab_type": "code",
        "colab": {}
      },
      "source": [
        "#Section 4 Remove Tiny Articles\n",
        "def removeTinyArticles(df,minLength=50):\n",
        "    df = df.reset_index(drop=True)\n",
        "    for i in range(len(df['article'])):\n",
        "        text=df['article'][i]\n",
        "        words=text.split(' ')\n",
        "        count=len(words)\n",
        "        if(count<minLength):\n",
        "            df['article'][i]=float('NaN')\n",
        "    df=removeNan(df)\n",
        "    return df"
      ],
      "execution_count": 0,
      "outputs": []
    },
    {
      "cell_type": "code",
      "metadata": {
        "id": "lSnivUN5FbUf",
        "colab_type": "code",
        "colab": {}
      },
      "source": [
        "#Section 5 Questions remover\n",
        "#Ensure removeMultipleSpaces has been called, because last character needs to be a space\n",
        "#Call removeNan to remove these lines\n",
        "def removeQuestions(df):\n",
        "    df=df.applymap(lambda x: x if (re.search('\\?$',x)==None) else float('NaN'))\n",
        "    df=removeNan(df)\n",
        "    return df"
      ],
      "execution_count": 0,
      "outputs": []
    },
    {
      "cell_type": "code",
      "metadata": {
        "id": "Aikk2EqLFbUp",
        "colab_type": "code",
        "colab": {}
      },
      "source": [
        "#Section 6 Remove Brackets\n",
        "def removeBrackets(df):\n",
        "    df = df.reset_index(drop=True)\n",
        "    for i in range(len(df['article'])):\n",
        "        words=df['article'][i]\n",
        "        brackets=0\n",
        "        replacedSentence=''\n",
        "        for j in words:\n",
        "            if(j=='('):\n",
        "                brackets+=1\n",
        "            elif(j==')'):\n",
        "                brackets-=1\n",
        "                continue\n",
        "            if(brackets==0):\n",
        "                replacedSentence+=j\n",
        "        df['article'][i]=replacedSentence\n",
        "    return df"
      ],
      "execution_count": 0,
      "outputs": []
    },
    {
      "cell_type": "code",
      "metadata": {
        "id": "wIOEs9I7FbUv",
        "colab_type": "code",
        "colab": {}
      },
      "source": [
        "#Section 7 Remove Punctuation\n",
        "def removePunctuation(df):\n",
        "    df=df.applymap(lambda x: x.replace('|',' '))\n",
        "    df=df.applymap(lambda x: x.translate(str.maketrans('', '', string.punctuation)))\n",
        "    return df"
      ],
      "execution_count": 0,
      "outputs": []
    },
    {
      "cell_type": "code",
      "metadata": {
        "id": "dVcKqVIgFbU8",
        "colab_type": "code",
        "outputId": "66af5def-13d7-4382-ca84-5091499993fa",
        "colab": {
          "base_uri": "https://localhost:8080/",
          "height": 54
        }
      },
      "source": [
        "#Small Sample dataframe for quick testing of code\n",
        "df=copy.deepcopy(train_df[:30])\n",
        "df = df.reset_index(drop=True)\n",
        "print(len(train_df))\n",
        "print(len(df))"
      ],
      "execution_count": 0,
      "outputs": [
        {
          "output_type": "stream",
          "text": [
            "69033\n",
            "30\n"
          ],
          "name": "stdout"
        }
      ]
    },
    {
      "cell_type": "code",
      "metadata": {
        "id": "D3Hg-QwDFbVD",
        "colab_type": "code",
        "outputId": "979e1432-be97-435b-a691-2346f057d312",
        "colab": {
          "base_uri": "https://localhost:8080/",
          "height": 54
        }
      },
      "source": [
        "train_df=removeNan(train_df)\n",
        "print(len(train_df))\n",
        "df=removeNan(df)\n",
        "print(len(df))"
      ],
      "execution_count": 0,
      "outputs": [
        {
          "output_type": "stream",
          "text": [
            "69033\n",
            "30\n"
          ],
          "name": "stdout"
        }
      ]
    },
    {
      "cell_type": "code",
      "metadata": {
        "id": "tv5KhyvVFbVJ",
        "colab_type": "code",
        "colab": {}
      },
      "source": [
        "df=removeNan(df)"
      ],
      "execution_count": 0,
      "outputs": []
    },
    {
      "cell_type": "code",
      "metadata": {
        "id": "LCpM2aheFbVP",
        "colab_type": "code",
        "colab": {}
      },
      "source": [
        "df=removeEnglish(df)"
      ],
      "execution_count": 0,
      "outputs": []
    },
    {
      "cell_type": "code",
      "metadata": {
        "id": "JcrchwQeFbVU",
        "colab_type": "code",
        "colab": {}
      },
      "source": [
        "df=removeNumbers(df)"
      ],
      "execution_count": 0,
      "outputs": []
    },
    {
      "cell_type": "code",
      "metadata": {
        "id": "c9aSm4h9FbVa",
        "colab_type": "code",
        "colab": {}
      },
      "source": [
        "df=removeMultipleSpaces(df)"
      ],
      "execution_count": 0,
      "outputs": []
    },
    {
      "cell_type": "code",
      "metadata": {
        "id": "rZffAKrmFbVe",
        "colab_type": "code",
        "colab": {}
      },
      "source": [
        "df=removeQuestions(df)"
      ],
      "execution_count": 0,
      "outputs": []
    },
    {
      "cell_type": "code",
      "metadata": {
        "id": "UNxr6EKXFbVh",
        "colab_type": "code",
        "colab": {}
      },
      "source": [
        "df=removeDuplicates(df)"
      ],
      "execution_count": 0,
      "outputs": []
    },
    {
      "cell_type": "code",
      "metadata": {
        "id": "ahvGBWC7FbVm",
        "colab_type": "code",
        "colab": {}
      },
      "source": [
        "df=removePunctuation(df)"
      ],
      "execution_count": 0,
      "outputs": []
    },
    {
      "cell_type": "code",
      "metadata": {
        "id": "eJBnvs7vFbVr",
        "colab_type": "code",
        "colab": {}
      },
      "source": [
        "df=removeBrackets(df)"
      ],
      "execution_count": 0,
      "outputs": []
    },
    {
      "cell_type": "code",
      "metadata": {
        "id": "NM_J3AZkFbVx",
        "colab_type": "code",
        "colab": {}
      },
      "source": [
        "df=removeEscapedCharacter(df)"
      ],
      "execution_count": 0,
      "outputs": []
    },
    {
      "cell_type": "code",
      "metadata": {
        "id": "Se22VJ9wFbV1",
        "colab_type": "code",
        "colab": {}
      },
      "source": [
        "df=removeTinyArticles(df)"
      ],
      "execution_count": 0,
      "outputs": []
    },
    {
      "cell_type": "code",
      "metadata": {
        "id": "GWTXRaizFbV5",
        "colab_type": "code",
        "outputId": "4d35b85e-48ea-4fe6-fbf1-62316ca8345d",
        "colab": {
          "base_uri": "https://localhost:8080/",
          "height": 1000
        }
      },
      "source": [
        "df"
      ],
      "execution_count": 0,
      "outputs": [
        {
          "output_type": "execute_result",
          "data": {
            "text/html": [
              "<div>\n",
              "<style scoped>\n",
              "    .dataframe tbody tr th:only-of-type {\n",
              "        vertical-align: middle;\n",
              "    }\n",
              "\n",
              "    .dataframe tbody tr th {\n",
              "        vertical-align: top;\n",
              "    }\n",
              "\n",
              "    .dataframe thead th {\n",
              "        text-align: right;\n",
              "    }\n",
              "</style>\n",
              "<table border=\"1\" class=\"dataframe\">\n",
              "  <thead>\n",
              "    <tr style=\"text-align: right;\">\n",
              "      <th></th>\n",
              "      <th>headline</th>\n",
              "      <th>summary</th>\n",
              "      <th>article</th>\n",
              "    </tr>\n",
              "  </thead>\n",
              "  <tbody>\n",
              "    <tr>\n",
              "      <th>0</th>\n",
              "      <td>रिम करेगा दो हजार कर्मचारियों की छंटनी</td>\n",
              "      <td>ब्लैकबेरी हैंडसेट बनाने वाली कनाडा की कंपनी रि...</td>\n",
              "      <td>ब्लैकबेरी हैंडसेट बनाने वाली कनाडा की कंपनी रि...</td>\n",
              "    </tr>\n",
              "    <tr>\n",
              "      <th>1</th>\n",
              "      <td>अमेरिका  राष्ट्रपति पद की उम्मीदवार हिलेरी क्ल...</td>\n",
              "      <td>श्रद्धांजलि सभा के दौरान अचानक खराब हुई हिलेरी...</td>\n",
              "      <td>अमेरिका में राष्ट्रपति पद के लिए डेमोक्रेटिक प...</td>\n",
              "    </tr>\n",
              "    <tr>\n",
              "      <th>2</th>\n",
              "      <td>देश के सर्वश्रेष्ठ स्पिनरों में से एक है हरभजन...</td>\n",
              "      <td>पूर्व भारतीय कप्तान अनिल कुंबले का मानना है कि...</td>\n",
              "      <td>पूर्व भारतीय क्रिकेट कप्तान अनिल कुंबले का मान...</td>\n",
              "    </tr>\n",
              "    <tr>\n",
              "      <th>3</th>\n",
              "      <td>इंडिगो के स्टाफ ने दिल्ली एयरपोर्ट पर पैसेंजर ...</td>\n",
              "      <td>इंडिगो के ग्राउंड स्टाफ ने यात्री से की हाथापा...</td>\n",
              "      <td>इंडिगो एयरलाइन के प्रेसीडेंट और डायरेक्टर आदित...</td>\n",
              "    </tr>\n",
              "    <tr>\n",
              "      <th>4</th>\n",
              "      <td>नव्या नवेली के साथ दोस्ती पर जावेद जाफरी के बे...</td>\n",
              "      <td>मीजान जाफरी ने किया खुलासा नव्या नंदा को बताया...</td>\n",
              "      <td>संजय लीला भंसाली की फिल्म मलाल से बॉलीवुड में ...</td>\n",
              "    </tr>\n",
              "    <tr>\n",
              "      <th>6</th>\n",
              "      <td>इस्लामिक धर्मगुरु ने रियल एस्टेट में किया NUM ...</td>\n",
              "      <td>ज़ाकिर नाइक के NUM बैंक खातों की एनआईए जांच कर...</td>\n",
              "      <td>विवादित इस्लामिक प्रचारक ज़ाकिर नाइक के गैर सर...</td>\n",
              "    </tr>\n",
              "    <tr>\n",
              "      <th>7</th>\n",
              "      <td>राष्ट्रपति NUM दिवसीय दौरे पर सेशेल्स व द अफ्र...</td>\n",
              "      <td>राष्ट्रपति प्रतिभा पाटील रविवार सुबह सेशेल्स औ...</td>\n",
              "      <td>राष्ट्रपति प्रतिभा पाटील रविवार सुबह सेशेल्स औ...</td>\n",
              "    </tr>\n",
              "    <tr>\n",
              "      <th>8</th>\n",
              "      <td>पीएम मोदी मिले बीजेपी के ओबीसी सांसदों से सरका...</td>\n",
              "      <td>कहा जब संसद नहीं चल रही हो तो अपने क्षेत्र में...</td>\n",
              "      <td>उन्होंने कहा कि अपने क्षेत्रों की समस्याओं को ...</td>\n",
              "    </tr>\n",
              "    <tr>\n",
              "      <th>9</th>\n",
              "      <td>ENG ENG ENG सलमान खान दिखे बुजुर्ग के गेटअप मे...</td>\n",
              "      <td>सलमान खान दिखे बुजुर्ग के गेटअप में उनकी तस्वी...</td>\n",
              "      <td>ENG ENG ENG ENG ENG ENG ENG ENG ENG ENG ENG EN...</td>\n",
              "    </tr>\n",
              "    <tr>\n",
              "      <th>10</th>\n",
              "      <td>सोमालियाई लुटेरों ने NUM भारतीयों को किया रिहा</td>\n",
              "      <td>फरवरी में इटली के इस जहाज का अपहरण किया गया था...</td>\n",
              "      <td>रोम में सोमालियाई समुद्री लुटेरों ने इटली के ए...</td>\n",
              "    </tr>\n",
              "    <tr>\n",
              "      <th>11</th>\n",
              "      <td>भारतअमेरिका व्यापारिक सम्बंधों में अपार सम्भाव...</td>\n",
              "      <td>पहले अमेरिकाभारत पश्चिम तटीय शिखर सम्मेलन में ...</td>\n",
              "      <td>पहले अमेरिकाभारत पश्चिम तटीय शिखर सम्मेलन में ...</td>\n",
              "    </tr>\n",
              "    <tr>\n",
              "      <th>12</th>\n",
              "      <td>मारुति के बाद हुंदै की कारें होंगी NUM हजार तक...</td>\n",
              "      <td>हुंदै मोटर इंडिया अपने वाहनों की कीमत NUM फरवर...</td>\n",
              "      <td>हुंदै मोटर इंडिया अपने वाहनों की कीमत NUM फरवर...</td>\n",
              "    </tr>\n",
              "    <tr>\n",
              "      <th>13</th>\n",
              "      <td>दिल्ली में अर्थ ऑवर की तैयारियां</td>\n",
              "      <td>इस अयोजन में राष्ट्रपति भवन सहित कई इमारतों मे...</td>\n",
              "      <td>दुनियाभर के कई शहरों सहित दिल्ली में भी शनिवार...</td>\n",
              "    </tr>\n",
              "    <tr>\n",
              "      <th>14</th>\n",
              "      <td>उत्तराखंड के प्रभावित क्षेत्रों का दौरा करने प...</td>\n",
              "      <td>गुजरात के मुख्यमंत्री नरेंद्र मोदी ने कहा कि उ...</td>\n",
              "      <td>गुजरात के मुख्यमंत्री नरेंद्र मोदी ने कहा कि उ...</td>\n",
              "    </tr>\n",
              "    <tr>\n",
              "      <th>15</th>\n",
              "      <td>मैच से पहले नर्वस थे गांगुली  ज्यौफ मार्श</td>\n",
              "      <td>पुणे वॉरियर्स के कोच ज्यौफ मार्श ने कहा कि डेक...</td>\n",
              "      <td>पुणे वॉरियर्स के कोच ज्यौफ मार्श ने कहा कि डेक...</td>\n",
              "    </tr>\n",
              "    <tr>\n",
              "      <th>16</th>\n",
              "      <td>मून ने पाक में हुए आत्मघाती हमले की निंदा की</td>\n",
              "      <td>संयुक्त राष्ट्र महासचिव बान की मून ने पाक के प...</td>\n",
              "      <td>संयुक्त राष्ट्र महासचिव बान की मून ने पाकिस्ता...</td>\n",
              "    </tr>\n",
              "    <tr>\n",
              "      <th>17</th>\n",
              "      <td>बेंगलुरू में छेड़छाड़  चैताली वासनिक ने ENG को...</td>\n",
              "      <td>बेंगलुरू में नए साल की रात हुई छेड़खानी पर पीड...</td>\n",
              "      <td>जिस वक्त पूरा बेंगलुरू शहर नए साल में प्रवेश क...</td>\n",
              "    </tr>\n",
              "    <tr>\n",
              "      <th>18</th>\n",
              "      <td>आईआईटी बॉम् बे से निकला इंटरनेट अब जोड़ेगा देश ...</td>\n",
              "      <td>फिलहाल इस योजना को NUM गांवों में आज़माया जा चु...</td>\n",
              "      <td>देश के हर गांव में बिना ऑप्टिक फाइबर के जाल के...</td>\n",
              "    </tr>\n",
              "    <tr>\n",
              "      <th>19</th>\n",
              "      <td>उत्तर भारत भीषण गर्मी की चपेट में</td>\n",
              "      <td>उत्तर भारत में लगातार पारा NUM के पार रहने के ...</td>\n",
              "      <td>उत्तर भारत में लगातार पारा NUM के पार रहने के ...</td>\n",
              "    </tr>\n",
              "    <tr>\n",
              "      <th>20</th>\n",
              "      <td>रिलांयस जियो ENG ENG लेकर आया दीवाली तोहफा  आज...</td>\n",
              "      <td>दीवाली धन धना धन ऑफर लेकर आया है रिलायंस जियो ...</td>\n",
              "      <td>रिलायंस जियो ENG ENG दीवाली पर अपने ग्राहकों क...</td>\n",
              "    </tr>\n",
              "    <tr>\n",
              "      <th>21</th>\n",
              "      <td>ENG ENG ENG अजहर को ईडन गार्डंस पर खास सम् मान...</td>\n",
              "      <td>अजहर ने घंटी बजाकर की थी पहले NUM मैच की शुरुआ...</td>\n",
              "      <td>ENG ENG ENG ENG ENG ENG ENG ENG ENG ENG ENG EN...</td>\n",
              "    </tr>\n",
              "    <tr>\n",
              "      <th>22</th>\n",
              "      <td>भारत ने बुरहान वानी पर टिप्पणी को लेकर नवाज शर...</td>\n",
              "      <td>शरीफ ने वानी को कश् मीर की मिट्टी का लाल कहा भ...</td>\n",
              "      <td>पाकिस्तानी प्रधानमंत्री नवाज शरीफ की ओर से हिज...</td>\n",
              "    </tr>\n",
              "    <tr>\n",
              "      <th>23</th>\n",
              "      <td>अगर ENG से हाथ मिला सकती है तो शिवसेना एनसीपी ...</td>\n",
              "      <td>संजय राउत का बीजेपी पर निशाना शिवसेना को सरकार...</td>\n",
              "      <td>शिवसेना नेता संजय राउत ने कहा है कि बीजेपी के ...</td>\n",
              "    </tr>\n",
              "    <tr>\n",
              "      <th>24</th>\n",
              "      <td>मुंबई में चार मंजिला इमारत गिरी चार मरे</td>\n",
              "      <td>मुंबई में एक चार मंजिला इमारत गिरने से चार लोग...</td>\n",
              "      <td>मुंबई में एक चार मंजिला इमारत गिरने से चार लोग...</td>\n",
              "    </tr>\n",
              "    <tr>\n",
              "      <th>26</th>\n",
              "      <td>जयपुर  पड़ोसी ने घर में घुसकर NUM साल की बच्ची...</td>\n",
              "      <td>पड़ोसी ने घर में घुसकर किया कथित बलात्कार विरो...</td>\n",
              "      <td>जयपुर के करणीविहार थाना क्षेत्र में एक युवक ने...</td>\n",
              "    </tr>\n",
              "    <tr>\n",
              "      <th>27</th>\n",
              "      <td>राज बब्बर सपा से बगावत करके डिंपल यादव को हराय...</td>\n",
              "      <td>NUM में जनता दल में शामिल होकर किया सियासी आगा...</td>\n",
              "      <td>राज बब्बर कांग्रेस के सीनियर नेताओं में से एक ...</td>\n",
              "    </tr>\n",
              "    <tr>\n",
              "      <th>28</th>\n",
              "      <td>यूपी की हार के लिए महंगाई भ्रष्टाचार जिम्मेदार...</td>\n",
              "      <td>रक्षामंत्री एके एंटनी के नेतृत्व में बनाई गई उ...</td>\n",
              "      <td>कांग्रेस की एक उच्चस्तरीय समिति का कहना है कि ...</td>\n",
              "    </tr>\n",
              "    <tr>\n",
              "      <th>29</th>\n",
              "      <td>इमेराल् ड कोर्ट केस सुपरटेक को राहत नहीं सुप्र...</td>\n",
              "      <td>NUM सितंबर तक जमा कराने हैं पैसे सुप्रीम कोर्ट...</td>\n",
              "      <td>गौरतलब है कि सुप्रीम कोर्ट नोएडा एक्सप्रेसवे प...</td>\n",
              "    </tr>\n",
              "  </tbody>\n",
              "</table>\n",
              "</div>"
            ],
            "text/plain": [
              "                                             headline  ...                                            article\n",
              "0              रिम करेगा दो हजार कर्मचारियों की छंटनी  ...  ब्लैकबेरी हैंडसेट बनाने वाली कनाडा की कंपनी रि...\n",
              "1   अमेरिका  राष्ट्रपति पद की उम्मीदवार हिलेरी क्ल...  ...  अमेरिका में राष्ट्रपति पद के लिए डेमोक्रेटिक प...\n",
              "2   देश के सर्वश्रेष्ठ स्पिनरों में से एक है हरभजन...  ...  पूर्व भारतीय क्रिकेट कप्तान अनिल कुंबले का मान...\n",
              "3   इंडिगो के स्टाफ ने दिल्ली एयरपोर्ट पर पैसेंजर ...  ...  इंडिगो एयरलाइन के प्रेसीडेंट और डायरेक्टर आदित...\n",
              "4   नव्या नवेली के साथ दोस्ती पर जावेद जाफरी के बे...  ...  संजय लीला भंसाली की फिल्म मलाल से बॉलीवुड में ...\n",
              "6   इस्लामिक धर्मगुरु ने रियल एस्टेट में किया NUM ...  ...  विवादित इस्लामिक प्रचारक ज़ाकिर नाइक के गैर सर...\n",
              "7   राष्ट्रपति NUM दिवसीय दौरे पर सेशेल्स व द अफ्र...  ...  राष्ट्रपति प्रतिभा पाटील रविवार सुबह सेशेल्स औ...\n",
              "8   पीएम मोदी मिले बीजेपी के ओबीसी सांसदों से सरका...  ...  उन्होंने कहा कि अपने क्षेत्रों की समस्याओं को ...\n",
              "9   ENG ENG ENG सलमान खान दिखे बुजुर्ग के गेटअप मे...  ...  ENG ENG ENG ENG ENG ENG ENG ENG ENG ENG ENG EN...\n",
              "10     सोमालियाई लुटेरों ने NUM भारतीयों को किया रिहा  ...  रोम में सोमालियाई समुद्री लुटेरों ने इटली के ए...\n",
              "11  भारतअमेरिका व्यापारिक सम्बंधों में अपार सम्भाव...  ...  पहले अमेरिकाभारत पश्चिम तटीय शिखर सम्मेलन में ...\n",
              "12  मारुति के बाद हुंदै की कारें होंगी NUM हजार तक...  ...  हुंदै मोटर इंडिया अपने वाहनों की कीमत NUM फरवर...\n",
              "13                   दिल्ली में अर्थ ऑवर की तैयारियां  ...  दुनियाभर के कई शहरों सहित दिल्ली में भी शनिवार...\n",
              "14  उत्तराखंड के प्रभावित क्षेत्रों का दौरा करने प...  ...  गुजरात के मुख्यमंत्री नरेंद्र मोदी ने कहा कि उ...\n",
              "15          मैच से पहले नर्वस थे गांगुली  ज्यौफ मार्श  ...  पुणे वॉरियर्स के कोच ज्यौफ मार्श ने कहा कि डेक...\n",
              "16       मून ने पाक में हुए आत्मघाती हमले की निंदा की  ...  संयुक्त राष्ट्र महासचिव बान की मून ने पाकिस्ता...\n",
              "17  बेंगलुरू में छेड़छाड़  चैताली वासनिक ने ENG को...  ...  जिस वक्त पूरा बेंगलुरू शहर नए साल में प्रवेश क...\n",
              "18  आईआईटी बॉम् बे से निकला इंटरनेट अब जोड़ेगा देश ...  ...  देश के हर गांव में बिना ऑप्टिक फाइबर के जाल के...\n",
              "19                  उत्तर भारत भीषण गर्मी की चपेट में  ...  उत्तर भारत में लगातार पारा NUM के पार रहने के ...\n",
              "20  रिलांयस जियो ENG ENG लेकर आया दीवाली तोहफा  आज...  ...  रिलायंस जियो ENG ENG दीवाली पर अपने ग्राहकों क...\n",
              "21  ENG ENG ENG अजहर को ईडन गार्डंस पर खास सम् मान...  ...  ENG ENG ENG ENG ENG ENG ENG ENG ENG ENG ENG EN...\n",
              "22  भारत ने बुरहान वानी पर टिप्पणी को लेकर नवाज शर...  ...  पाकिस्तानी प्रधानमंत्री नवाज शरीफ की ओर से हिज...\n",
              "23  अगर ENG से हाथ मिला सकती है तो शिवसेना एनसीपी ...  ...  शिवसेना नेता संजय राउत ने कहा है कि बीजेपी के ...\n",
              "24            मुंबई में चार मंजिला इमारत गिरी चार मरे  ...  मुंबई में एक चार मंजिला इमारत गिरने से चार लोग...\n",
              "26  जयपुर  पड़ोसी ने घर में घुसकर NUM साल की बच्ची...  ...  जयपुर के करणीविहार थाना क्षेत्र में एक युवक ने...\n",
              "27  राज बब्बर सपा से बगावत करके डिंपल यादव को हराय...  ...  राज बब्बर कांग्रेस के सीनियर नेताओं में से एक ...\n",
              "28  यूपी की हार के लिए महंगाई भ्रष्टाचार जिम्मेदार...  ...  कांग्रेस की एक उच्चस्तरीय समिति का कहना है कि ...\n",
              "29  इमेराल् ड कोर्ट केस सुपरटेक को राहत नहीं सुप्र...  ...  गौरतलब है कि सुप्रीम कोर्ट नोएडा एक्सप्रेसवे प...\n",
              "\n",
              "[28 rows x 3 columns]"
            ]
          },
          "metadata": {
            "tags": []
          },
          "execution_count": 44
        }
      ]
    },
    {
      "cell_type": "code",
      "metadata": {
        "id": "pScqSHU0FbV_",
        "colab_type": "code",
        "outputId": "694374f6-16e6-42bd-f39f-b05375eba9dd",
        "colab": {}
      },
      "source": [
        "#Function to plot Summary Lenght Distribution\n",
        "import matplotlib.pyplot as plt\n",
        "def getSummaryLengthDistribution(df):\n",
        "    count=[]\n",
        "    df = df.reset_index(drop=True)\n",
        "    for i in range(len(df['article'])):\n",
        "        text=df['article'][i]\n",
        "        #print(text)\n",
        "        words=text.split(' ')\n",
        "        #print(len(words))\n",
        "        count.append(len(words))\n",
        "    print(sum(count)/len(df['article']))\n",
        "    count.sort()\n",
        "    plt.hist(count,[1,10,20,30,40,50,60,70,80,90,100,200,300,400,500,1000,2000,10000])\n",
        "    plt.show()\n",
        "getSummaryLengthDistribution(train_df)"
      ],
      "execution_count": 0,
      "outputs": [
        {
          "output_type": "stream",
          "text": [
            "530.8108143703812\n"
          ],
          "name": "stdout"
        },
        {
          "output_type": "display_data",
          "data": {
            "image/png": "[encoded data removed]",
            "text/plain": [
              "<Figure size 432x288 with 1 Axes>"
            ]
          },
          "metadata": {
            "tags": [],
            "needs_background": "light"
          }
        }
      ]
    }
  ]
}
